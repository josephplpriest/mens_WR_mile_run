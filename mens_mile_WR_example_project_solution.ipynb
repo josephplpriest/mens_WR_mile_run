{
  "cells": [
    {
      "cell_type": "markdown",
      "metadata": {
        "id": "view-in-github",
        "colab_type": "text"
      },
      "source": [
        "<a href=\"https://colab.research.google.com/github/josephplpriest/mens_WR_mile_run/blob/master/mens_mile_WR_example_project_solution.ipynb\" target=\"_parent\"><img src=\"https://colab.research.google.com/assets/colab-badge.svg\" alt=\"Open In Colab\"/></a>"
      ]
    },
    {
      "cell_type": "markdown",
      "metadata": {
        "id": "OnwbaobgJQCa"
      },
      "source": [
        "# Men's World Record Mile Times"
      ]
    },
    {
      "cell_type": "markdown",
      "metadata": {
        "id": "WJNd17mxJQCk"
      },
      "source": [
        "![a runner](https://www.nnrunningteam.com/files/images/485-458-1083-slide.jpg?1570881944)"
      ]
    },
    {
      "cell_type": "markdown",
      "metadata": {
        "id": "9qiSlfj0lW87"
      },
      "source": [
        "## Goals for this example project:\n",
        "\n",
        "1. Use documentation for some small challenges.\n",
        "\n",
        "2. Practice data cleaning.\n",
        "\n",
        "3. Practice aggregation. \n",
        "\n",
        "4. Practice simple visualization.\n",
        "\n",
        "[source - wikipedia](https://en.wikipedia.org/wiki/Mile_run_world_record_progression#:~:text=World%20Athletics%20is%20the%20official,the%20IAAF%20for%20record%20purposes)"
      ]
    },
    {
      "cell_type": "code",
      "execution_count": 48,
      "metadata": {
        "id": "OYkwKM4AmM0O"
      },
      "outputs": [],
      "source": [
        "import datetime as dt\n",
        "import json\n",
        "import time\n",
        "import matplotlib.pyplot as plt\n",
        "import pandas as pd\n"
      ]
    },
    {
      "cell_type": "code",
      "execution_count": 49,
      "metadata": {
        "colab": {
          "base_uri": "https://localhost:8080/",
          "height": 206
        },
        "id": "nHWVw6FPrxuD",
        "outputId": "7c2ab4ac-56a0-4207-b135-8d90d7979014",
        "scrolled": true
      },
      "outputs": [
        {
          "output_type": "execute_result",
          "data": {
            "text/plain": [
              "       Time Auto           Athlete    Nationality               Date  \\\n",
              "0  *4:14.4*  NaN   John Paul Jones  United States     31 May 1913[5]   \n",
              "1  *4:12.6*  NaN      Norman Taber  United States    16 July 1915[5]   \n",
              "2  *4:10.4*  NaN       Paavo Nurmi        Finland  23 August 1923[5]   \n",
              "3  *4:09.2*  NaN  Jules Ladoumègue         France  4 October 1931[5]   \n",
              "4  *4:07.6*  NaN     Jack Lovelock    New Zealand    15 July 1933[5]   \n",
              "\n",
              "             Venue  \n",
              "0   Allston, Mass.  \n",
              "1   Allston, Mass.  \n",
              "2        Stockholm  \n",
              "3            Paris  \n",
              "4  Princeton, N.J.  "
            ],
            "text/html": [
              "\n",
              "  <div id=\"df-e71d725c-3d0d-46b8-bf0b-3d3563fb84d4\">\n",
              "    <div class=\"colab-df-container\">\n",
              "      <div>\n",
              "<style scoped>\n",
              "    .dataframe tbody tr th:only-of-type {\n",
              "        vertical-align: middle;\n",
              "    }\n",
              "\n",
              "    .dataframe tbody tr th {\n",
              "        vertical-align: top;\n",
              "    }\n",
              "\n",
              "    .dataframe thead th {\n",
              "        text-align: right;\n",
              "    }\n",
              "</style>\n",
              "<table border=\"1\" class=\"dataframe\">\n",
              "  <thead>\n",
              "    <tr style=\"text-align: right;\">\n",
              "      <th></th>\n",
              "      <th>Time</th>\n",
              "      <th>Auto</th>\n",
              "      <th>Athlete</th>\n",
              "      <th>Nationality</th>\n",
              "      <th>Date</th>\n",
              "      <th>Venue</th>\n",
              "    </tr>\n",
              "  </thead>\n",
              "  <tbody>\n",
              "    <tr>\n",
              "      <th>0</th>\n",
              "      <td>*4:14.4*</td>\n",
              "      <td>NaN</td>\n",
              "      <td>John Paul Jones</td>\n",
              "      <td>United States</td>\n",
              "      <td>31 May 1913[5]</td>\n",
              "      <td>Allston, Mass.</td>\n",
              "    </tr>\n",
              "    <tr>\n",
              "      <th>1</th>\n",
              "      <td>*4:12.6*</td>\n",
              "      <td>NaN</td>\n",
              "      <td>Norman Taber</td>\n",
              "      <td>United States</td>\n",
              "      <td>16 July 1915[5]</td>\n",
              "      <td>Allston, Mass.</td>\n",
              "    </tr>\n",
              "    <tr>\n",
              "      <th>2</th>\n",
              "      <td>*4:10.4*</td>\n",
              "      <td>NaN</td>\n",
              "      <td>Paavo Nurmi</td>\n",
              "      <td>Finland</td>\n",
              "      <td>23 August 1923[5]</td>\n",
              "      <td>Stockholm</td>\n",
              "    </tr>\n",
              "    <tr>\n",
              "      <th>3</th>\n",
              "      <td>*4:09.2*</td>\n",
              "      <td>NaN</td>\n",
              "      <td>Jules Ladoumègue</td>\n",
              "      <td>France</td>\n",
              "      <td>4 October 1931[5]</td>\n",
              "      <td>Paris</td>\n",
              "    </tr>\n",
              "    <tr>\n",
              "      <th>4</th>\n",
              "      <td>*4:07.6*</td>\n",
              "      <td>NaN</td>\n",
              "      <td>Jack Lovelock</td>\n",
              "      <td>New Zealand</td>\n",
              "      <td>15 July 1933[5]</td>\n",
              "      <td>Princeton, N.J.</td>\n",
              "    </tr>\n",
              "  </tbody>\n",
              "</table>\n",
              "</div>\n",
              "      <button class=\"colab-df-convert\" onclick=\"convertToInteractive('df-e71d725c-3d0d-46b8-bf0b-3d3563fb84d4')\"\n",
              "              title=\"Convert this dataframe to an interactive table.\"\n",
              "              style=\"display:none;\">\n",
              "        \n",
              "  <svg xmlns=\"http://www.w3.org/2000/svg\" height=\"24px\"viewBox=\"0 0 24 24\"\n",
              "       width=\"24px\">\n",
              "    <path d=\"M0 0h24v24H0V0z\" fill=\"none\"/>\n",
              "    <path d=\"M18.56 5.44l.94 2.06.94-2.06 2.06-.94-2.06-.94-.94-2.06-.94 2.06-2.06.94zm-11 1L8.5 8.5l.94-2.06 2.06-.94-2.06-.94L8.5 2.5l-.94 2.06-2.06.94zm10 10l.94 2.06.94-2.06 2.06-.94-2.06-.94-.94-2.06-.94 2.06-2.06.94z\"/><path d=\"M17.41 7.96l-1.37-1.37c-.4-.4-.92-.59-1.43-.59-.52 0-1.04.2-1.43.59L10.3 9.45l-7.72 7.72c-.78.78-.78 2.05 0 2.83L4 21.41c.39.39.9.59 1.41.59.51 0 1.02-.2 1.41-.59l7.78-7.78 2.81-2.81c.8-.78.8-2.07 0-2.86zM5.41 20L4 18.59l7.72-7.72 1.47 1.35L5.41 20z\"/>\n",
              "  </svg>\n",
              "      </button>\n",
              "      \n",
              "  <style>\n",
              "    .colab-df-container {\n",
              "      display:flex;\n",
              "      flex-wrap:wrap;\n",
              "      gap: 12px;\n",
              "    }\n",
              "\n",
              "    .colab-df-convert {\n",
              "      background-color: #E8F0FE;\n",
              "      border: none;\n",
              "      border-radius: 50%;\n",
              "      cursor: pointer;\n",
              "      display: none;\n",
              "      fill: #1967D2;\n",
              "      height: 32px;\n",
              "      padding: 0 0 0 0;\n",
              "      width: 32px;\n",
              "    }\n",
              "\n",
              "    .colab-df-convert:hover {\n",
              "      background-color: #E2EBFA;\n",
              "      box-shadow: 0px 1px 2px rgba(60, 64, 67, 0.3), 0px 1px 3px 1px rgba(60, 64, 67, 0.15);\n",
              "      fill: #174EA6;\n",
              "    }\n",
              "\n",
              "    [theme=dark] .colab-df-convert {\n",
              "      background-color: #3B4455;\n",
              "      fill: #D2E3FC;\n",
              "    }\n",
              "\n",
              "    [theme=dark] .colab-df-convert:hover {\n",
              "      background-color: #434B5C;\n",
              "      box-shadow: 0px 1px 3px 1px rgba(0, 0, 0, 0.15);\n",
              "      filter: drop-shadow(0px 1px 2px rgba(0, 0, 0, 0.3));\n",
              "      fill: #FFFFFF;\n",
              "    }\n",
              "  </style>\n",
              "\n",
              "      <script>\n",
              "        const buttonEl =\n",
              "          document.querySelector('#df-e71d725c-3d0d-46b8-bf0b-3d3563fb84d4 button.colab-df-convert');\n",
              "        buttonEl.style.display =\n",
              "          google.colab.kernel.accessAllowed ? 'block' : 'none';\n",
              "\n",
              "        async function convertToInteractive(key) {\n",
              "          const element = document.querySelector('#df-e71d725c-3d0d-46b8-bf0b-3d3563fb84d4');\n",
              "          const dataTable =\n",
              "            await google.colab.kernel.invokeFunction('convertToInteractive',\n",
              "                                                     [key], {});\n",
              "          if (!dataTable) return;\n",
              "\n",
              "          const docLinkHtml = 'Like what you see? Visit the ' +\n",
              "            '<a target=\"_blank\" href=https://colab.research.google.com/notebooks/data_table.ipynb>data table notebook</a>'\n",
              "            + ' to learn more about interactive tables.';\n",
              "          element.innerHTML = '';\n",
              "          dataTable['output_type'] = 'display_data';\n",
              "          await google.colab.output.renderOutput(dataTable, element);\n",
              "          const docLink = document.createElement('div');\n",
              "          docLink.innerHTML = docLinkHtml;\n",
              "          element.appendChild(docLink);\n",
              "        }\n",
              "      </script>\n",
              "    </div>\n",
              "  </div>\n",
              "  "
            ]
          },
          "metadata": {},
          "execution_count": 49
        }
      ],
      "source": [
        "data = pd.read_csv(\"https://raw.githubusercontent.com/josephplpriest/mens_WR_mile_run/master/mens_WR_mile_times.csv\")\n",
        "\n",
        "data.head()"
      ]
    },
    {
      "cell_type": "markdown",
      "metadata": {
        "id": "WFiT-zx2JQDU"
      },
      "source": [
        "## Tasks:"
      ]
    },
    {
      "cell_type": "markdown",
      "metadata": {
        "id": "PgMOXXiYuVa5"
      },
      "source": [
        "### [Easy: Data Cleaning](#easy)\n",
        "\n",
        "[1.1](#1.1)\n",
        "* Clean the asterisks from the time column?\n",
        "\n",
        "*hint - look for pandas string methods to replace a character or characters*\n",
        "\n",
        "[1.2](#1.2)\n",
        "* Remove meaningless columns? \n",
        "\n",
        "*hint - do we have a column with lots of missing values, how to drop a column in pandas*\n",
        "\n",
        "[1.3](#1.3)\n",
        "* Clean the date column of \"[5]\"\n",
        "\n",
        "*pandas string methods to replace characters*\n",
        "\n",
        "\n"
      ]
    },
    {
      "cell_type": "markdown",
      "metadata": {
        "id": "GNwczzNQJQDe"
      },
      "source": [
        "### [Medium: Calculation and Aggregation](#medium)\n",
        "\n",
        "[2.1](#2.1) \n",
        "* How many *unique* WR holders have there been? Who holds the most records?\n",
        "\n",
        "*hint - pandas unique items in a column, value counts*\n",
        "\n",
        "\n",
        "[2.2](#2.2) \n",
        "* Convert the time column into total seconds.\n",
        "\n",
        "*hint - split a string, how to convert minutes to seconds and add*\n",
        "\n",
        "\n"
      ]
    },
    {
      "cell_type": "markdown",
      "metadata": {
        "id": "-YZg1FMNJQDh"
      },
      "source": [
        "### [Hard:](#hard)\n",
        "\n",
        "[3.1](#3.1) \n",
        "* Convert the date column to the datetime type.\n",
        "\n",
        "*hint - pandas datetime method*\n",
        "\n",
        "\n",
        "[3.2](#3.2) \n",
        "* What country has the most DIFFERENT record holders?\n",
        "\n",
        "*hint - pandas group by, unique*\n",
        "\n"
      ]
    },
    {
      "cell_type": "markdown",
      "metadata": {
        "id": "W06D3AByJQDk"
      },
      "source": [
        "## [Extra credit:](#ec)\n",
        "\n",
        "[4.1](#4.1)\n",
        "* Visualize a line plot of Date (on the x axis) and Time (on the y axis) to show the historical change in WR times.\n",
        "\n",
        "*hint - pandas line plot*"
      ]
    },
    {
      "cell_type": "markdown",
      "metadata": {
        "id": "8oq7Q45KvN3U"
      },
      "source": [
        "### Easy: <a name=\"easy\"></a>"
      ]
    },
    {
      "cell_type": "markdown",
      "metadata": {
        "id": "5SsHflyaJQDm"
      },
      "source": [
        "#### 1.1 Cleaning the time column <a name=\"1.1\"><a/>"
      ]
    },
    {
      "cell_type": "code",
      "execution_count": 50,
      "metadata": {
        "id": "yKiR-B8cJQDv",
        "colab": {
          "base_uri": "https://localhost:8080/"
        },
        "outputId": "5809a088-fe0b-438c-9c00-1ec4b71dfaa6"
      },
      "outputs": [
        {
          "output_type": "stream",
          "name": "stderr",
          "text": [
            "/usr/local/lib/python3.7/dist-packages/ipykernel_launcher.py:5: FutureWarning: The default value of regex will change from True to False in a future version. In addition, single character regular expressions will *not* be treated as literal strings when regex=True.\n",
            "  \"\"\"\n"
          ]
        }
      ],
      "source": [
        "# Your code here\n",
        "\n",
        "example_string = \"*4:14.4*\"\n",
        "\n",
        "data[\"Time\"] = data[\"Time\"].str.replace(\"*\", \"\")"
      ]
    },
    {
      "cell_type": "markdown",
      "metadata": {
        "id": "zN0YKRKNJQDz"
      },
      "source": [
        "#### 1.2 Drop the \"Auto\" column <a name=\"1.2\"><a/>"
      ]
    },
    {
      "cell_type": "code",
      "execution_count": 58,
      "metadata": {
        "id": "RxAkIhSjJQD0"
      },
      "outputs": [],
      "source": [
        "# Your code here\n",
        "\n",
        "data.drop(columns=\"Auto\", inplace=True)\n"
      ]
    },
    {
      "cell_type": "markdown",
      "metadata": {
        "id": "TFNk4MwzJQD1"
      },
      "source": [
        "#### 1.3 Clean the date column <a name=\"1.3\"><a/>"
      ]
    },
    {
      "cell_type": "code",
      "execution_count": 52,
      "metadata": {
        "id": "0BmiantWJQD1",
        "colab": {
          "base_uri": "https://localhost:8080/",
          "height": 1000
        },
        "outputId": "b3053ab9-9047-4cb4-cc0d-de38242e5732"
      },
      "outputs": [
        {
          "output_type": "execute_result",
          "data": {
            "text/plain": [
              "       Time     Auto             Athlete     Nationality              Date  \\\n",
              "0    4:14.4      NaN     John Paul Jones   United States       31 May 1913   \n",
              "1    4:12.6      NaN        Norman Taber   United States      16 July 1915   \n",
              "2    4:10.4      NaN         Paavo Nurmi         Finland    23 August 1923   \n",
              "3    4:09.2      NaN    Jules Ladoumègue          France    4 October 1931   \n",
              "4    4:07.6      NaN       Jack Lovelock     New Zealand      15 July 1933   \n",
              "5    4:06.8      NaN    Glenn Cunningham   United States      16 June 1934   \n",
              "6    4:06.4      NaN    Sydney Wooderson  United Kingdom    28 August 1937   \n",
              "7    4:06.2      NaN         Gunder Hägg          Sweden       1 July 1942   \n",
              "8    4:06.2      NaN      Arne Andersson          Sweden      10 July 1942   \n",
              "9    4:04.6      NaN         Gunder Hägg          Sweden  4 September 1942   \n",
              "10   4:02.6      NaN      Arne Andersson          Sweden       1 July 1943   \n",
              "11   4:01.6      NaN      Arne Andersson          Sweden      18 July 1944   \n",
              "12   4:01.4      NaN         Gunder Hägg          Sweden      17 July 1945   \n",
              "13   3:59.4      NaN     Roger Bannister  United Kingdom        6 May 1954   \n",
              "14   3:58.0      NaN          John Landy       Australia      21 June 1954   \n",
              "15   3:57.2      NaN      Derek Ibbotson  United Kingdom      19 July 1957   \n",
              "16   3:54.5      NaN        Herb Elliott       Australia     6 August 1958   \n",
              "17   3:54.4      NaN         Peter Snell     New Zealand   27 January 1962   \n",
              "18   3:54.1  03:54.0         Peter Snell     New Zealand  17 November 1964   \n",
              "19   3:53.6      NaN         Michel Jazy          France       9 June 1965   \n",
              "20   3:51.3      NaN            Jim Ryun   United States      17 July 1966   \n",
              "21   3:51.1      NaN            Jim Ryun   United States      23 June 1967   \n",
              "22   3:51.0      NaN        Filbert Bayi        Tanzania       17 May 1975   \n",
              "23   3:49.4      NaN         John Walker     New Zealand    12 August 1975   \n",
              "24   3:49.0  03:48.9       Sebastian Coe  United Kingdom      17 July 1979   \n",
              "25   3:48.8      NaN         Steve Ovett  United Kingdom       1 July 1980   \n",
              "26  3:48.53      NaN       Sebastian Coe  United Kingdom    19 August 1981   \n",
              "27  3:48.40      NaN         Steve Ovett  United Kingdom    26 August 1981   \n",
              "28  3:47.33      NaN       Sebastian Coe  United Kingdom    28 August 1981   \n",
              "29  3:46.32      NaN          Steve Cram  United Kingdom      27 July 1985   \n",
              "30  3:44.39      NaN  Noureddine Morceli         Algeria  5 September 1993   \n",
              "31  3:43.13      NaN  Hicham El Guerrouj         Morocco       7 July 1999   \n",
              "\n",
              "                Venue  \n",
              "0      Allston, Mass.  \n",
              "1      Allston, Mass.  \n",
              "2           Stockholm  \n",
              "3               Paris  \n",
              "4     Princeton, N.J.  \n",
              "5     Princeton, N.J.  \n",
              "6        Motspur Park  \n",
              "7          Gothenburg  \n",
              "8           Stockholm  \n",
              "9           Stockholm  \n",
              "10         Gothenburg  \n",
              "11              Malmö  \n",
              "12              Malmö  \n",
              "13             Oxford  \n",
              "14              Turku  \n",
              "15             London  \n",
              "16             Dublin  \n",
              "17           Wanganui  \n",
              "18           Auckland  \n",
              "19             Rennes  \n",
              "20     Berkeley, Cal.  \n",
              "21  Bakersfield, Cal.  \n",
              "22           Kingston  \n",
              "23         Gothenburg  \n",
              "24               Oslo  \n",
              "25               Oslo  \n",
              "26             Zürich  \n",
              "27            Koblenz  \n",
              "28           Brussels  \n",
              "29               Oslo  \n",
              "30              Rieti  \n",
              "31               Rome  "
            ],
            "text/html": [
              "\n",
              "  <div id=\"df-23ee8dff-c8dd-4889-9f38-5f6133a5b052\">\n",
              "    <div class=\"colab-df-container\">\n",
              "      <div>\n",
              "<style scoped>\n",
              "    .dataframe tbody tr th:only-of-type {\n",
              "        vertical-align: middle;\n",
              "    }\n",
              "\n",
              "    .dataframe tbody tr th {\n",
              "        vertical-align: top;\n",
              "    }\n",
              "\n",
              "    .dataframe thead th {\n",
              "        text-align: right;\n",
              "    }\n",
              "</style>\n",
              "<table border=\"1\" class=\"dataframe\">\n",
              "  <thead>\n",
              "    <tr style=\"text-align: right;\">\n",
              "      <th></th>\n",
              "      <th>Time</th>\n",
              "      <th>Auto</th>\n",
              "      <th>Athlete</th>\n",
              "      <th>Nationality</th>\n",
              "      <th>Date</th>\n",
              "      <th>Venue</th>\n",
              "    </tr>\n",
              "  </thead>\n",
              "  <tbody>\n",
              "    <tr>\n",
              "      <th>0</th>\n",
              "      <td>4:14.4</td>\n",
              "      <td>NaN</td>\n",
              "      <td>John Paul Jones</td>\n",
              "      <td>United States</td>\n",
              "      <td>31 May 1913</td>\n",
              "      <td>Allston, Mass.</td>\n",
              "    </tr>\n",
              "    <tr>\n",
              "      <th>1</th>\n",
              "      <td>4:12.6</td>\n",
              "      <td>NaN</td>\n",
              "      <td>Norman Taber</td>\n",
              "      <td>United States</td>\n",
              "      <td>16 July 1915</td>\n",
              "      <td>Allston, Mass.</td>\n",
              "    </tr>\n",
              "    <tr>\n",
              "      <th>2</th>\n",
              "      <td>4:10.4</td>\n",
              "      <td>NaN</td>\n",
              "      <td>Paavo Nurmi</td>\n",
              "      <td>Finland</td>\n",
              "      <td>23 August 1923</td>\n",
              "      <td>Stockholm</td>\n",
              "    </tr>\n",
              "    <tr>\n",
              "      <th>3</th>\n",
              "      <td>4:09.2</td>\n",
              "      <td>NaN</td>\n",
              "      <td>Jules Ladoumègue</td>\n",
              "      <td>France</td>\n",
              "      <td>4 October 1931</td>\n",
              "      <td>Paris</td>\n",
              "    </tr>\n",
              "    <tr>\n",
              "      <th>4</th>\n",
              "      <td>4:07.6</td>\n",
              "      <td>NaN</td>\n",
              "      <td>Jack Lovelock</td>\n",
              "      <td>New Zealand</td>\n",
              "      <td>15 July 1933</td>\n",
              "      <td>Princeton, N.J.</td>\n",
              "    </tr>\n",
              "    <tr>\n",
              "      <th>5</th>\n",
              "      <td>4:06.8</td>\n",
              "      <td>NaN</td>\n",
              "      <td>Glenn Cunningham</td>\n",
              "      <td>United States</td>\n",
              "      <td>16 June 1934</td>\n",
              "      <td>Princeton, N.J.</td>\n",
              "    </tr>\n",
              "    <tr>\n",
              "      <th>6</th>\n",
              "      <td>4:06.4</td>\n",
              "      <td>NaN</td>\n",
              "      <td>Sydney Wooderson</td>\n",
              "      <td>United Kingdom</td>\n",
              "      <td>28 August 1937</td>\n",
              "      <td>Motspur Park</td>\n",
              "    </tr>\n",
              "    <tr>\n",
              "      <th>7</th>\n",
              "      <td>4:06.2</td>\n",
              "      <td>NaN</td>\n",
              "      <td>Gunder Hägg</td>\n",
              "      <td>Sweden</td>\n",
              "      <td>1 July 1942</td>\n",
              "      <td>Gothenburg</td>\n",
              "    </tr>\n",
              "    <tr>\n",
              "      <th>8</th>\n",
              "      <td>4:06.2</td>\n",
              "      <td>NaN</td>\n",
              "      <td>Arne Andersson</td>\n",
              "      <td>Sweden</td>\n",
              "      <td>10 July 1942</td>\n",
              "      <td>Stockholm</td>\n",
              "    </tr>\n",
              "    <tr>\n",
              "      <th>9</th>\n",
              "      <td>4:04.6</td>\n",
              "      <td>NaN</td>\n",
              "      <td>Gunder Hägg</td>\n",
              "      <td>Sweden</td>\n",
              "      <td>4 September 1942</td>\n",
              "      <td>Stockholm</td>\n",
              "    </tr>\n",
              "    <tr>\n",
              "      <th>10</th>\n",
              "      <td>4:02.6</td>\n",
              "      <td>NaN</td>\n",
              "      <td>Arne Andersson</td>\n",
              "      <td>Sweden</td>\n",
              "      <td>1 July 1943</td>\n",
              "      <td>Gothenburg</td>\n",
              "    </tr>\n",
              "    <tr>\n",
              "      <th>11</th>\n",
              "      <td>4:01.6</td>\n",
              "      <td>NaN</td>\n",
              "      <td>Arne Andersson</td>\n",
              "      <td>Sweden</td>\n",
              "      <td>18 July 1944</td>\n",
              "      <td>Malmö</td>\n",
              "    </tr>\n",
              "    <tr>\n",
              "      <th>12</th>\n",
              "      <td>4:01.4</td>\n",
              "      <td>NaN</td>\n",
              "      <td>Gunder Hägg</td>\n",
              "      <td>Sweden</td>\n",
              "      <td>17 July 1945</td>\n",
              "      <td>Malmö</td>\n",
              "    </tr>\n",
              "    <tr>\n",
              "      <th>13</th>\n",
              "      <td>3:59.4</td>\n",
              "      <td>NaN</td>\n",
              "      <td>Roger Bannister</td>\n",
              "      <td>United Kingdom</td>\n",
              "      <td>6 May 1954</td>\n",
              "      <td>Oxford</td>\n",
              "    </tr>\n",
              "    <tr>\n",
              "      <th>14</th>\n",
              "      <td>3:58.0</td>\n",
              "      <td>NaN</td>\n",
              "      <td>John Landy</td>\n",
              "      <td>Australia</td>\n",
              "      <td>21 June 1954</td>\n",
              "      <td>Turku</td>\n",
              "    </tr>\n",
              "    <tr>\n",
              "      <th>15</th>\n",
              "      <td>3:57.2</td>\n",
              "      <td>NaN</td>\n",
              "      <td>Derek Ibbotson</td>\n",
              "      <td>United Kingdom</td>\n",
              "      <td>19 July 1957</td>\n",
              "      <td>London</td>\n",
              "    </tr>\n",
              "    <tr>\n",
              "      <th>16</th>\n",
              "      <td>3:54.5</td>\n",
              "      <td>NaN</td>\n",
              "      <td>Herb Elliott</td>\n",
              "      <td>Australia</td>\n",
              "      <td>6 August 1958</td>\n",
              "      <td>Dublin</td>\n",
              "    </tr>\n",
              "    <tr>\n",
              "      <th>17</th>\n",
              "      <td>3:54.4</td>\n",
              "      <td>NaN</td>\n",
              "      <td>Peter Snell</td>\n",
              "      <td>New Zealand</td>\n",
              "      <td>27 January 1962</td>\n",
              "      <td>Wanganui</td>\n",
              "    </tr>\n",
              "    <tr>\n",
              "      <th>18</th>\n",
              "      <td>3:54.1</td>\n",
              "      <td>03:54.0</td>\n",
              "      <td>Peter Snell</td>\n",
              "      <td>New Zealand</td>\n",
              "      <td>17 November 1964</td>\n",
              "      <td>Auckland</td>\n",
              "    </tr>\n",
              "    <tr>\n",
              "      <th>19</th>\n",
              "      <td>3:53.6</td>\n",
              "      <td>NaN</td>\n",
              "      <td>Michel Jazy</td>\n",
              "      <td>France</td>\n",
              "      <td>9 June 1965</td>\n",
              "      <td>Rennes</td>\n",
              "    </tr>\n",
              "    <tr>\n",
              "      <th>20</th>\n",
              "      <td>3:51.3</td>\n",
              "      <td>NaN</td>\n",
              "      <td>Jim Ryun</td>\n",
              "      <td>United States</td>\n",
              "      <td>17 July 1966</td>\n",
              "      <td>Berkeley, Cal.</td>\n",
              "    </tr>\n",
              "    <tr>\n",
              "      <th>21</th>\n",
              "      <td>3:51.1</td>\n",
              "      <td>NaN</td>\n",
              "      <td>Jim Ryun</td>\n",
              "      <td>United States</td>\n",
              "      <td>23 June 1967</td>\n",
              "      <td>Bakersfield, Cal.</td>\n",
              "    </tr>\n",
              "    <tr>\n",
              "      <th>22</th>\n",
              "      <td>3:51.0</td>\n",
              "      <td>NaN</td>\n",
              "      <td>Filbert Bayi</td>\n",
              "      <td>Tanzania</td>\n",
              "      <td>17 May 1975</td>\n",
              "      <td>Kingston</td>\n",
              "    </tr>\n",
              "    <tr>\n",
              "      <th>23</th>\n",
              "      <td>3:49.4</td>\n",
              "      <td>NaN</td>\n",
              "      <td>John Walker</td>\n",
              "      <td>New Zealand</td>\n",
              "      <td>12 August 1975</td>\n",
              "      <td>Gothenburg</td>\n",
              "    </tr>\n",
              "    <tr>\n",
              "      <th>24</th>\n",
              "      <td>3:49.0</td>\n",
              "      <td>03:48.9</td>\n",
              "      <td>Sebastian Coe</td>\n",
              "      <td>United Kingdom</td>\n",
              "      <td>17 July 1979</td>\n",
              "      <td>Oslo</td>\n",
              "    </tr>\n",
              "    <tr>\n",
              "      <th>25</th>\n",
              "      <td>3:48.8</td>\n",
              "      <td>NaN</td>\n",
              "      <td>Steve Ovett</td>\n",
              "      <td>United Kingdom</td>\n",
              "      <td>1 July 1980</td>\n",
              "      <td>Oslo</td>\n",
              "    </tr>\n",
              "    <tr>\n",
              "      <th>26</th>\n",
              "      <td>3:48.53</td>\n",
              "      <td>NaN</td>\n",
              "      <td>Sebastian Coe</td>\n",
              "      <td>United Kingdom</td>\n",
              "      <td>19 August 1981</td>\n",
              "      <td>Zürich</td>\n",
              "    </tr>\n",
              "    <tr>\n",
              "      <th>27</th>\n",
              "      <td>3:48.40</td>\n",
              "      <td>NaN</td>\n",
              "      <td>Steve Ovett</td>\n",
              "      <td>United Kingdom</td>\n",
              "      <td>26 August 1981</td>\n",
              "      <td>Koblenz</td>\n",
              "    </tr>\n",
              "    <tr>\n",
              "      <th>28</th>\n",
              "      <td>3:47.33</td>\n",
              "      <td>NaN</td>\n",
              "      <td>Sebastian Coe</td>\n",
              "      <td>United Kingdom</td>\n",
              "      <td>28 August 1981</td>\n",
              "      <td>Brussels</td>\n",
              "    </tr>\n",
              "    <tr>\n",
              "      <th>29</th>\n",
              "      <td>3:46.32</td>\n",
              "      <td>NaN</td>\n",
              "      <td>Steve Cram</td>\n",
              "      <td>United Kingdom</td>\n",
              "      <td>27 July 1985</td>\n",
              "      <td>Oslo</td>\n",
              "    </tr>\n",
              "    <tr>\n",
              "      <th>30</th>\n",
              "      <td>3:44.39</td>\n",
              "      <td>NaN</td>\n",
              "      <td>Noureddine Morceli</td>\n",
              "      <td>Algeria</td>\n",
              "      <td>5 September 1993</td>\n",
              "      <td>Rieti</td>\n",
              "    </tr>\n",
              "    <tr>\n",
              "      <th>31</th>\n",
              "      <td>3:43.13</td>\n",
              "      <td>NaN</td>\n",
              "      <td>Hicham El Guerrouj</td>\n",
              "      <td>Morocco</td>\n",
              "      <td>7 July 1999</td>\n",
              "      <td>Rome</td>\n",
              "    </tr>\n",
              "  </tbody>\n",
              "</table>\n",
              "</div>\n",
              "      <button class=\"colab-df-convert\" onclick=\"convertToInteractive('df-23ee8dff-c8dd-4889-9f38-5f6133a5b052')\"\n",
              "              title=\"Convert this dataframe to an interactive table.\"\n",
              "              style=\"display:none;\">\n",
              "        \n",
              "  <svg xmlns=\"http://www.w3.org/2000/svg\" height=\"24px\"viewBox=\"0 0 24 24\"\n",
              "       width=\"24px\">\n",
              "    <path d=\"M0 0h24v24H0V0z\" fill=\"none\"/>\n",
              "    <path d=\"M18.56 5.44l.94 2.06.94-2.06 2.06-.94-2.06-.94-.94-2.06-.94 2.06-2.06.94zm-11 1L8.5 8.5l.94-2.06 2.06-.94-2.06-.94L8.5 2.5l-.94 2.06-2.06.94zm10 10l.94 2.06.94-2.06 2.06-.94-2.06-.94-.94-2.06-.94 2.06-2.06.94z\"/><path d=\"M17.41 7.96l-1.37-1.37c-.4-.4-.92-.59-1.43-.59-.52 0-1.04.2-1.43.59L10.3 9.45l-7.72 7.72c-.78.78-.78 2.05 0 2.83L4 21.41c.39.39.9.59 1.41.59.51 0 1.02-.2 1.41-.59l7.78-7.78 2.81-2.81c.8-.78.8-2.07 0-2.86zM5.41 20L4 18.59l7.72-7.72 1.47 1.35L5.41 20z\"/>\n",
              "  </svg>\n",
              "      </button>\n",
              "      \n",
              "  <style>\n",
              "    .colab-df-container {\n",
              "      display:flex;\n",
              "      flex-wrap:wrap;\n",
              "      gap: 12px;\n",
              "    }\n",
              "\n",
              "    .colab-df-convert {\n",
              "      background-color: #E8F0FE;\n",
              "      border: none;\n",
              "      border-radius: 50%;\n",
              "      cursor: pointer;\n",
              "      display: none;\n",
              "      fill: #1967D2;\n",
              "      height: 32px;\n",
              "      padding: 0 0 0 0;\n",
              "      width: 32px;\n",
              "    }\n",
              "\n",
              "    .colab-df-convert:hover {\n",
              "      background-color: #E2EBFA;\n",
              "      box-shadow: 0px 1px 2px rgba(60, 64, 67, 0.3), 0px 1px 3px 1px rgba(60, 64, 67, 0.15);\n",
              "      fill: #174EA6;\n",
              "    }\n",
              "\n",
              "    [theme=dark] .colab-df-convert {\n",
              "      background-color: #3B4455;\n",
              "      fill: #D2E3FC;\n",
              "    }\n",
              "\n",
              "    [theme=dark] .colab-df-convert:hover {\n",
              "      background-color: #434B5C;\n",
              "      box-shadow: 0px 1px 3px 1px rgba(0, 0, 0, 0.15);\n",
              "      filter: drop-shadow(0px 1px 2px rgba(0, 0, 0, 0.3));\n",
              "      fill: #FFFFFF;\n",
              "    }\n",
              "  </style>\n",
              "\n",
              "      <script>\n",
              "        const buttonEl =\n",
              "          document.querySelector('#df-23ee8dff-c8dd-4889-9f38-5f6133a5b052 button.colab-df-convert');\n",
              "        buttonEl.style.display =\n",
              "          google.colab.kernel.accessAllowed ? 'block' : 'none';\n",
              "\n",
              "        async function convertToInteractive(key) {\n",
              "          const element = document.querySelector('#df-23ee8dff-c8dd-4889-9f38-5f6133a5b052');\n",
              "          const dataTable =\n",
              "            await google.colab.kernel.invokeFunction('convertToInteractive',\n",
              "                                                     [key], {});\n",
              "          if (!dataTable) return;\n",
              "\n",
              "          const docLinkHtml = 'Like what you see? Visit the ' +\n",
              "            '<a target=\"_blank\" href=https://colab.research.google.com/notebooks/data_table.ipynb>data table notebook</a>'\n",
              "            + ' to learn more about interactive tables.';\n",
              "          element.innerHTML = '';\n",
              "          dataTable['output_type'] = 'display_data';\n",
              "          await google.colab.output.renderOutput(dataTable, element);\n",
              "          const docLink = document.createElement('div');\n",
              "          docLink.innerHTML = docLinkHtml;\n",
              "          element.appendChild(docLink);\n",
              "        }\n",
              "      </script>\n",
              "    </div>\n",
              "  </div>\n",
              "  "
            ]
          },
          "metadata": {},
          "execution_count": 52
        }
      ],
      "source": [
        "# Your code here\n",
        "\n",
        "data[\"Date\"] = data.Date.str.replace(r\"[5]\", \"\", regex=False)\n",
        "data"
      ]
    },
    {
      "cell_type": "markdown",
      "metadata": {
        "id": "_aLsXJNiJQEB"
      },
      "source": [
        "### Medium: <a name=\"medium\"><a/>"
      ]
    },
    {
      "cell_type": "markdown",
      "metadata": {
        "id": "lf8Chc0TJQEB"
      },
      "source": [
        "#### 2.1 Looking at record holders (unique and multiple-record holders) <a name=\"2.1\"><a/>"
      ]
    },
    {
      "cell_type": "code",
      "execution_count": 53,
      "metadata": {
        "id": "DGbJafYdJQEB",
        "colab": {
          "base_uri": "https://localhost:8080/"
        },
        "outputId": "d1713f3d-162b-45c7-9f67-db79ba24d3ce"
      },
      "outputs": [
        {
          "output_type": "execute_result",
          "data": {
            "text/plain": [
              "(array(['John Paul Jones', 'Norman Taber', 'Paavo Nurmi',\n",
              "        'Jules Ladoumègue', 'Jack Lovelock', 'Glenn Cunningham',\n",
              "        'Sydney Wooderson', 'Gunder Hägg', 'Arne Andersson',\n",
              "        'Roger Bannister', 'John Landy', 'Derek Ibbotson', 'Herb Elliott',\n",
              "        'Peter Snell', 'Michel Jazy', 'Jim Ryun', 'Filbert Bayi',\n",
              "        'John Walker', 'Sebastian Coe', 'Steve Ovett', 'Steve Cram',\n",
              "        'Noureddine Morceli', 'Hicham El Guerrouj'], dtype=object), 23)"
            ]
          },
          "metadata": {},
          "execution_count": 53
        }
      ],
      "source": [
        "# Your code here\n",
        "\n",
        "data.Athlete.unique(), data.Athlete.nunique()"
      ]
    },
    {
      "cell_type": "code",
      "execution_count": 54,
      "metadata": {
        "id": "n2qHXGLGJQEH",
        "colab": {
          "base_uri": "https://localhost:8080/"
        },
        "outputId": "13a85202-bf4b-4156-fb63-5db3876a521a"
      },
      "outputs": [
        {
          "output_type": "execute_result",
          "data": {
            "text/plain": [
              "Sebastian Coe         3\n",
              "Gunder Hägg           3\n",
              "Arne Andersson        3\n",
              "Peter Snell           2\n",
              "Steve Ovett           2\n",
              "Jim Ryun              2\n",
              "John Paul Jones       1\n",
              "Noureddine Morceli    1\n",
              "Steve Cram            1\n",
              "John Walker           1\n",
              "Filbert Bayi          1\n",
              "Michel Jazy           1\n",
              "Derek Ibbotson        1\n",
              "Herb Elliott          1\n",
              "Norman Taber          1\n",
              "John Landy            1\n",
              "Roger Bannister       1\n",
              "Sydney Wooderson      1\n",
              "Glenn Cunningham      1\n",
              "Jack Lovelock         1\n",
              "Jules Ladoumègue      1\n",
              "Paavo Nurmi           1\n",
              "Hicham El Guerrouj    1\n",
              "Name: Athlete, dtype: int64"
            ]
          },
          "metadata": {},
          "execution_count": 54
        }
      ],
      "source": [
        "# Your code here\n",
        "data.Athlete.value_counts()"
      ]
    },
    {
      "cell_type": "markdown",
      "metadata": {
        "id": "6_hpgrLNJQEH"
      },
      "source": [
        "#### 2.2 Convert the \"Time\" column to seconds <a name=\"2.2\"><a/>"
      ]
    },
    {
      "cell_type": "code",
      "execution_count": 55,
      "metadata": {
        "id": "HVScCt6UJQEI",
        "colab": {
          "base_uri": "https://localhost:8080/"
        },
        "outputId": "a37f2d08-f065-494e-fcfa-6b8284e1b517"
      },
      "outputs": [
        {
          "output_type": "execute_result",
          "data": {
            "text/plain": [
              "0     254.40\n",
              "1     252.60\n",
              "2     250.40\n",
              "3     249.20\n",
              "4     247.60\n",
              "5     246.80\n",
              "6     246.40\n",
              "7     246.20\n",
              "8     246.20\n",
              "9     244.60\n",
              "10    242.60\n",
              "11    241.60\n",
              "12    241.40\n",
              "13    239.40\n",
              "14    238.00\n",
              "15    237.20\n",
              "16    234.50\n",
              "17    234.40\n",
              "18    234.10\n",
              "19    233.60\n",
              "20    231.30\n",
              "21    231.10\n",
              "22    231.00\n",
              "23    229.40\n",
              "24    229.00\n",
              "25    228.80\n",
              "26    228.53\n",
              "27    228.40\n",
              "28    227.33\n",
              "29    226.32\n",
              "30    224.39\n",
              "31    223.13\n",
              "Name: Time, dtype: float64"
            ]
          },
          "metadata": {},
          "execution_count": 55
        }
      ],
      "source": [
        "times = data.Time.str.split(\":\")\n",
        "times = [(int(time[0]) * 60) + float(time[1]) for time in times]\n",
        "\n",
        "data[\"Time\"] = times\n",
        "\n",
        "data[\"Time\"]"
      ]
    },
    {
      "cell_type": "markdown",
      "metadata": {
        "id": "GOZDS9JLJQEQ"
      },
      "source": [
        "### Hard: <a name=\"hard\"><a/>"
      ]
    },
    {
      "cell_type": "markdown",
      "metadata": {
        "id": "pa1Rpj_BJQES"
      },
      "source": [
        "#### 3.1 Convert the \"Date\" column to datetime type<a name=\"3.1\"><a/>"
      ]
    },
    {
      "cell_type": "code",
      "execution_count": 56,
      "metadata": {
        "id": "6_wdjreMJQET"
      },
      "outputs": [],
      "source": [
        "# Your code here\n",
        "\n",
        "data[\"Date\"] = pd.to_datetime(data[\"Date\"], format = \"%d %B %Y\")"
      ]
    },
    {
      "cell_type": "markdown",
      "metadata": {
        "id": "pBvY8uAbJQEU"
      },
      "source": [
        "#### 3.2 Rank countries by number (distinct) of record holders <a name=\"3.2\"><a/>"
      ]
    },
    {
      "cell_type": "code",
      "execution_count": 61,
      "metadata": {
        "id": "KAGZkRyZJQEU",
        "colab": {
          "base_uri": "https://localhost:8080/"
        },
        "outputId": "d20d781d-6a77-47cf-bdf0-67f42bd32d33"
      },
      "outputs": [
        {
          "output_type": "execute_result",
          "data": {
            "text/plain": [
              "Nationality\n",
              "Algeria           1\n",
              "Finland           1\n",
              "Morocco           1\n",
              "Tanzania          1\n",
              "Australia         2\n",
              "France            2\n",
              "Sweden            2\n",
              "New Zealand       3\n",
              "United States     4\n",
              "United Kingdom    6\n",
              "Name: Athlete, dtype: int64"
            ]
          },
          "metadata": {},
          "execution_count": 61
        }
      ],
      "source": [
        "# Your code here\n",
        "\n",
        "data.groupby(\"Nationality\")[\"Athlete\"].nunique().sort_values()"
      ]
    },
    {
      "cell_type": "markdown",
      "metadata": {
        "id": "-UgwATW4JQEV"
      },
      "source": [
        "### Extra Credit: <a name = \"ec\"><a/>"
      ]
    },
    {
      "cell_type": "markdown",
      "metadata": {
        "id": "oq3p_QxJJQEW"
      },
      "source": [
        "#### 4.1 Plot the dates vs times to see how the record has changed through history. <a name=\"4.1\"><a/>"
      ]
    },
    {
      "cell_type": "code",
      "source": [
        "# Your code here\n",
        "\n",
        "import seaborn as sns\n",
        "\n",
        "sns.lineplot(data=data, x=\"Date\", y=\"Time\")"
      ],
      "metadata": {
        "colab": {
          "base_uri": "https://localhost:8080/",
          "height": 296
        },
        "id": "V-0ciiEWN5Ee",
        "outputId": "acd9e47d-bb22-46d9-dc38-46cb42afe488"
      },
      "execution_count": 72,
      "outputs": [
        {
          "output_type": "execute_result",
          "data": {
            "text/plain": [
              "<matplotlib.axes._subplots.AxesSubplot at 0x7f33bf43d9d0>"
            ]
          },
          "metadata": {},
          "execution_count": 72
        },
        {
          "output_type": "display_data",
          "data": {
            "text/plain": [
              "<Figure size 432x288 with 1 Axes>"
            ],
            "image/png": "[encoded data removed]"
          },
          "metadata": {
            "needs_background": "light"
          }
        }
      ]
    },
    {
      "cell_type": "code",
      "source": [
        "# Your code here\n",
        "\n",
        "import plotly.express as px\n",
        "px.line(data, x=\"Date\", y=\"Time\")\n"
      ],
      "metadata": {
        "id": "-TJKX-K6NzVl"
      },
      "execution_count": null,
      "outputs": []
    }
  ],
  "metadata": {
    "colab": {
      "collapsed_sections": [],
      "name": "mens_mile_WR_example_project_solution.ipynb",
      "provenance": [],
      "include_colab_link": true
    },
    "kernelspec": {
      "display_name": "Python 3 (ipykernel)",
      "language": "python",
      "name": "python3"
    },
    "language_info": {
      "codemirror_mode": {
        "name": "ipython",
        "version": 3
      },
      "file_extension": ".py",
      "mimetype": "text/x-python",
      "name": "python",
      "nbconvert_exporter": "python",
      "pygments_lexer": "ipython3",
      "version": "3.9.7"
    }
  },
  "nbformat": 4,
  "nbformat_minor": 0
}